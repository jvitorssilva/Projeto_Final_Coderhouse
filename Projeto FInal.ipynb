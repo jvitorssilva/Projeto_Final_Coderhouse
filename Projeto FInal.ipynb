{
 "cells": [
  {
   "cell_type": "code",
   "execution_count": 32,
   "metadata": {},
   "outputs": [],
   "source": [
    "import pandas as pd\n",
    "import requests\n",
    "from plyer import notification\n",
    "import datetime"
   ]
  },
  {
   "cell_type": "code",
   "execution_count": 27,
   "metadata": {},
   "outputs": [],
   "source": [
    "#Criar a função de alerta de erro\n",
    "def alerta():\n",
    "    data_atual = datetime.datetime.now().strftime(\"%d-%m-%Y %H:%M:%S\")\n",
    "\n",
    "    notification.notify(\n",
    "        title= f\"Erro {response.status_code}\",\n",
    "        message=\"Ocorreu uma falha no carregamentos dos dados da API\" + \"\\nData atual: \" + data_atual,\n",
    "        app_name=\"Alerta\",\n",
    "        timeout=10)"
   ]
  },
  {
   "cell_type": "code",
   "execution_count": 33,
   "metadata": {},
   "outputs": [],
   "source": [
    "#Consultar a API e gerar um dataframe com os feriados nacionais\n",
    "ano = 2023\n",
    "url =f\"https://brasilapi.com.br/api/feriados/v1/{ano}\"\n",
    "response = requests.get(url)\n",
    "if response.status_code == 200:\n",
    "    data_json = response.json()\n",
    "    feriados_nacionais = pd.DataFrame(data_json)\n",
    "  \n",
    "else:\n",
    "    alerta()\n",
    "#Alterar os nomes das colunas\n",
    "feriados_nacionais = feriados_nacionais.rename(columns ={'date': 'Data', 'name': 'Feriado', 'type': 'Tipo'})\n",
    "#Alterar o formato da data\n",
    "feriados_nacionais['Data'] = pd.to_datetime(feriados_nacionais['Data']).dt.strftime('%d/%m/%Y')\n",
    "#Deixar a coluna \"Tipo\" em português\n",
    "feriados_nacionais['Tipo'] = feriados_nacionais['Tipo'].replace('national', 'Nacional')\n",
    "#Consultar se existem valores nulos\n",
    "feriados_nacionais.isna()\n",
    "#Salvar em um arquivo csv\n",
    "feriados_nacionais.to_csv('feriados_nacionais.csv', index=False)\n"
   ]
  },
  {
   "cell_type": "code",
   "execution_count": 37,
   "metadata": {},
   "outputs": [
    {
     "ename": "NameError",
     "evalue": "name 'corretoras' is not defined",
     "output_type": "error",
     "traceback": [
      "\u001b[1;31m---------------------------------------------------------------------------\u001b[0m",
      "\u001b[1;31mNameError\u001b[0m                                 Traceback (most recent call last)",
      "\u001b[1;32mc:\\Users\\João Vitor\\Desktop\\Python - Coderhouse\\Proj. Final\\Projeto_Final_Coderhouse\\Projeto FInal.ipynb Cell 4\u001b[0m line \u001b[0;36m1\n\u001b[0;32m      <a href='vscode-notebook-cell:/c%3A/Users/Jo%C3%A3o%20Vitor/Desktop/Python%20-%20Coderhouse/Proj.%20Final/Projeto_Final_Coderhouse/Projeto%20FInal.ipynb#W3sZmlsZQ%3D%3D?line=7'>8</a>\u001b[0m     alerta()\n\u001b[0;32m      <a href='vscode-notebook-cell:/c%3A/Users/Jo%C3%A3o%20Vitor/Desktop/Python%20-%20Coderhouse/Proj.%20Final/Projeto_Final_Coderhouse/Projeto%20FInal.ipynb#W3sZmlsZQ%3D%3D?line=8'>9</a>\u001b[0m \u001b[39m#Limpar o dataframe deixando apenas as colunas com os dados de contato\u001b[39;00m\n\u001b[1;32m---> <a href='vscode-notebook-cell:/c%3A/Users/Jo%C3%A3o%20Vitor/Desktop/Python%20-%20Coderhouse/Proj.%20Final/Projeto_Final_Coderhouse/Projeto%20FInal.ipynb#W3sZmlsZQ%3D%3D?line=9'>10</a>\u001b[0m corretoras_ativas \u001b[39m=\u001b[39m corretoras\u001b[39m.\u001b[39mloc[corretoras[\u001b[39m'\u001b[39m\u001b[39mstatus\u001b[39m\u001b[39m'\u001b[39m] \u001b[39m==\u001b[39m \u001b[39m'\u001b[39m\u001b[39mEM FUNCIONAMENTO NORMAL\u001b[39m\u001b[39m'\u001b[39m]\n\u001b[0;32m     <a href='vscode-notebook-cell:/c%3A/Users/Jo%C3%A3o%20Vitor/Desktop/Python%20-%20Coderhouse/Proj.%20Final/Projeto_Final_Coderhouse/Projeto%20FInal.ipynb#W3sZmlsZQ%3D%3D?line=10'>11</a>\u001b[0m dados \u001b[39m=\u001b[39m [\u001b[39m'\u001b[39m\u001b[39mnome_social\u001b[39m\u001b[39m'\u001b[39m, \u001b[39m'\u001b[39m\u001b[39memail\u001b[39m\u001b[39m'\u001b[39m, \u001b[39m'\u001b[39m\u001b[39mmunicipio\u001b[39m\u001b[39m'\u001b[39m, \u001b[39m'\u001b[39m\u001b[39mtelefone\u001b[39m\u001b[39m'\u001b[39m]\n\u001b[0;32m     <a href='vscode-notebook-cell:/c%3A/Users/Jo%C3%A3o%20Vitor/Desktop/Python%20-%20Coderhouse/Proj.%20Final/Projeto_Final_Coderhouse/Projeto%20FInal.ipynb#W3sZmlsZQ%3D%3D?line=11'>12</a>\u001b[0m corretoras_ativas \u001b[39m=\u001b[39m corretoras_ativas[dados]\n",
      "\u001b[1;31mNameError\u001b[0m: name 'corretoras' is not defined"
     ]
    }
   ],
   "source": [
    "# onsultar a API e gerar um dataframe com as corretoras ativas no Brasil\n",
    "url2 =\"https://brasilapi.com.br/api/cvm/corretoras/v1\"\n",
    "response = requests.get(url2, timeout= 15)\n",
    "if response.status_code == 200:\n",
    "    data_json2 = response.json()\n",
    "    corretoras = pd.DataFrame(data_json2)\n",
    "else:\n",
    "    alerta()\n",
    "#Limpar o dataframe deixando apenas as colunas com os dados de contato\n",
    "corretoras_ativas = corretoras.loc[corretoras['status'] == 'EM FUNCIONAMENTO NORMAL']\n",
    "dados = ['nome_social', 'email', 'municipio', 'telefone']\n",
    "corretoras_ativas = corretoras_ativas[dados]\n",
    "#Alterar nomes das colunas\n",
    "corretoras_ativas = corretoras_ativas.rename(columns ={'nome_social': 'Nome', 'email': 'E-mail', 'municipio': 'Município', 'telefone': 'Telefone'})\n",
    "#Formatar a coluna 'Telefone' no formato 'xxxx-xxxx' para melhor visualização\n",
    "corretoras_ativas['Telefone'] = corretoras_ativas['Telefone'].astype(str).str[:4] + '-' + corretoras_ativas['Telefone'].astype(str).str[4:]\n",
    "#Capitalizar a primeira letra de cada palavra na coluna 'Município'\n",
    "corretoras_ativas['Município'] = corretoras_ativas['Município'].str.title()\n",
    "#Consultar se existem valores nulos\n",
    "corretoras_ativas.isna()\n",
    "#Salvar em um arquivo csv\n",
    "corretoras_ativas.to_csv('corretoras_ativas.csv', index=False)"
   ]
  },
  {
   "cell_type": "code",
   "execution_count": 25,
   "metadata": {},
   "outputs": [],
   "source": [
    "#Consultar a API e gerar um dataframe com as taxas de juros vigentes no Brasil\n",
    "url3 =\"https://brasilapi.com.br/api/taxas/v1\"\n",
    "response = requests.get(url3)\n",
    "if response.status_code == 200:\n",
    "    data_json3 = response.json()\n",
    "    taxas = pd.DataFrame(data_json3)\n",
    "else:\n",
    "    alerta()\n",
    "\n",
    "#Alterar nomes das colunas\n",
    "taxas = taxas.rename(columns= {'nome': 'Nome', 'valor': 'Valor (%)'})\n",
    "#Consultar se existem valores nulos\n",
    "taxas.isna()\n",
    "#Salvar em um arquivo csv\n",
    "taxas.to_csv('taxas.csv', index=False)"
   ]
  }
 ],
 "metadata": {
  "kernelspec": {
   "display_name": "Python 3",
   "language": "python",
   "name": "python3"
  },
  "language_info": {
   "codemirror_mode": {
    "name": "ipython",
    "version": 3
   },
   "file_extension": ".py",
   "mimetype": "text/x-python",
   "name": "python",
   "nbconvert_exporter": "python",
   "pygments_lexer": "ipython3",
   "version": "3.11.4"
  },
  "orig_nbformat": 4
 },
 "nbformat": 4,
 "nbformat_minor": 2
}
